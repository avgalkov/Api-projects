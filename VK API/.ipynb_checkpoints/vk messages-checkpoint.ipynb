{
 "cells": [
  {
   "cell_type": "code",
   "execution_count": 2,
   "id": "e31333f5",
   "metadata": {},
   "outputs": [],
   "source": [
    "import pandas as pd\n",
    "import datetime\n",
    "import vk_api\n",
    "import os\n",
    "import requests\n",
    "import json\n",
    "import random\n",
    "\n",
    "%matplotlib inline\n",
    "import matplotlib.pyplot as plt\n",
    "import seaborn as sns\n",
    "import sys"
   ]
  },
  {
   "cell_type": "code",
   "execution_count": 3,
   "id": "f02d8e6d",
   "metadata": {},
   "outputs": [],
   "source": [
    "token = 'vk1.a.F8Z1X--k-75bcoLEBqmBAAlpCWq3VbtXgkyJ7WLjuqkaPfcGBkAb0afNg35fVUsDk2Cf1VxGyqQmXiWwLhnUeTjXYnngqv0Y4UkkWxE0cQXZZwHiDEpNNOnH4H_3GiO-XgCNlkNpnMjG58qN5G0MBv4U800Z6SL8MJRNIM-Qp315fcu2kpxVD-QErDgLTV6BHexGvRwWuTdqcnImo0r7lg'"
   ]
  },
  {
   "cell_type": "code",
   "execution_count": 8,
   "id": "4caa3534",
   "metadata": {},
   "outputs": [],
   "source": [
    "vk_session = vk_api.VkApi(token=token)\n",
    "vk = vk_session.get_api()\n"
   ]
  },
  {
   "cell_type": "code",
   "execution_count": 11,
   "id": "f3595103",
   "metadata": {},
   "outputs": [
    {
     "data": {
      "text/plain": [
       "0"
      ]
     },
     "execution_count": 11,
     "metadata": {},
     "output_type": "execute_result"
    }
   ],
   "source": [
    "vk.messages.send(\n",
    "    chat_id = 1,\n",
    "    random_id = 1,\n",
    "    message = 'Here we go again')"
   ]
  },
  {
   "cell_type": "code",
   "execution_count": 13,
   "id": "7a0fc1c4",
   "metadata": {},
   "outputs": [],
   "source": [
    "ads = pd.read_csv('C:/Users/79295/Desktop/GITHUB/Analytical-practice/datasets/ads_data.zip')"
   ]
  },
  {
   "cell_type": "code",
   "execution_count": 14,
   "id": "7bff94fb",
   "metadata": {},
   "outputs": [
    {
     "data": {
      "text/html": [
       "<div>\n",
       "<style scoped>\n",
       "    .dataframe tbody tr th:only-of-type {\n",
       "        vertical-align: middle;\n",
       "    }\n",
       "\n",
       "    .dataframe tbody tr th {\n",
       "        vertical-align: top;\n",
       "    }\n",
       "\n",
       "    .dataframe thead th {\n",
       "        text-align: right;\n",
       "    }\n",
       "</style>\n",
       "<table border=\"1\" class=\"dataframe\">\n",
       "  <thead>\n",
       "    <tr style=\"text-align: right;\">\n",
       "      <th></th>\n",
       "      <th>date</th>\n",
       "      <th>time</th>\n",
       "      <th>event</th>\n",
       "      <th>platform</th>\n",
       "      <th>ad_id</th>\n",
       "      <th>client_union_id</th>\n",
       "      <th>campaign_union_id</th>\n",
       "      <th>ad_cost_type</th>\n",
       "      <th>ad_cost</th>\n",
       "      <th>has_video</th>\n",
       "      <th>target_audience_count</th>\n",
       "    </tr>\n",
       "  </thead>\n",
       "  <tbody>\n",
       "    <tr>\n",
       "      <th>0</th>\n",
       "      <td>2019-04-01</td>\n",
       "      <td>2019-04-01 00:00:48</td>\n",
       "      <td>view</td>\n",
       "      <td>android</td>\n",
       "      <td>45061</td>\n",
       "      <td>34734</td>\n",
       "      <td>45061</td>\n",
       "      <td>CPM</td>\n",
       "      <td>200.6</td>\n",
       "      <td>0</td>\n",
       "      <td>1955269</td>\n",
       "    </tr>\n",
       "    <tr>\n",
       "      <th>1</th>\n",
       "      <td>2019-04-01</td>\n",
       "      <td>2019-04-01 00:00:48</td>\n",
       "      <td>view</td>\n",
       "      <td>web</td>\n",
       "      <td>121288</td>\n",
       "      <td>121288</td>\n",
       "      <td>121288</td>\n",
       "      <td>CPM</td>\n",
       "      <td>187.4</td>\n",
       "      <td>0</td>\n",
       "      <td>232011</td>\n",
       "    </tr>\n",
       "    <tr>\n",
       "      <th>2</th>\n",
       "      <td>2019-04-01</td>\n",
       "      <td>2019-04-01 00:01:03</td>\n",
       "      <td>view</td>\n",
       "      <td>android</td>\n",
       "      <td>102737</td>\n",
       "      <td>102535</td>\n",
       "      <td>102564</td>\n",
       "      <td>CPC</td>\n",
       "      <td>60.7</td>\n",
       "      <td>0</td>\n",
       "      <td>4410</td>\n",
       "    </tr>\n",
       "    <tr>\n",
       "      <th>3</th>\n",
       "      <td>2019-04-01</td>\n",
       "      <td>2019-04-01 00:01:03</td>\n",
       "      <td>view</td>\n",
       "      <td>android</td>\n",
       "      <td>107564</td>\n",
       "      <td>106914</td>\n",
       "      <td>107564</td>\n",
       "      <td>CPM</td>\n",
       "      <td>217.3</td>\n",
       "      <td>0</td>\n",
       "      <td>62711</td>\n",
       "    </tr>\n",
       "    <tr>\n",
       "      <th>4</th>\n",
       "      <td>2019-04-01</td>\n",
       "      <td>2019-04-01 00:01:09</td>\n",
       "      <td>view</td>\n",
       "      <td>android</td>\n",
       "      <td>4922</td>\n",
       "      <td>37</td>\n",
       "      <td>4400</td>\n",
       "      <td>CPC</td>\n",
       "      <td>60.1</td>\n",
       "      <td>0</td>\n",
       "      <td>1183501</td>\n",
       "    </tr>\n",
       "  </tbody>\n",
       "</table>\n",
       "</div>"
      ],
      "text/plain": [
       "         date                 time event platform   ad_id  client_union_id  \\\n",
       "0  2019-04-01  2019-04-01 00:00:48  view  android   45061            34734   \n",
       "1  2019-04-01  2019-04-01 00:00:48  view      web  121288           121288   \n",
       "2  2019-04-01  2019-04-01 00:01:03  view  android  102737           102535   \n",
       "3  2019-04-01  2019-04-01 00:01:03  view  android  107564           106914   \n",
       "4  2019-04-01  2019-04-01 00:01:09  view  android    4922               37   \n",
       "\n",
       "   campaign_union_id ad_cost_type  ad_cost  has_video  target_audience_count  \n",
       "0              45061          CPM    200.6          0                1955269  \n",
       "1             121288          CPM    187.4          0                 232011  \n",
       "2             102564          CPC     60.7          0                   4410  \n",
       "3             107564          CPM    217.3          0                  62711  \n",
       "4               4400          CPC     60.1          0                1183501  "
      ]
     },
     "execution_count": 14,
     "metadata": {},
     "output_type": "execute_result"
    }
   ],
   "source": [
    "ads.head()"
   ]
  },
  {
   "cell_type": "code",
   "execution_count": 15,
   "id": "2881049a",
   "metadata": {},
   "outputs": [],
   "source": [
    "# Напишем скрипт, который отправляет файл с информацией о ТОП-10 объявлениях по размеру CTR:"
   ]
  },
  {
   "cell_type": "code",
   "execution_count": 17,
   "id": "d5249cb8",
   "metadata": {},
   "outputs": [],
   "source": [
    "ad_data = ads.groupby(['ad_id','event'],as_index=False) \\\n",
    "    .agg({\"client_union_id\":\"count\"}) \\\n",
    "    .rename(columns={\"client_union_id\":\"count\"})"
   ]
  },
  {
   "cell_type": "code",
   "execution_count": 30,
   "id": "5ee89755",
   "metadata": {},
   "outputs": [],
   "source": [
    "ad_data = ad_data.pivot(\n",
    "    index = 'ad_id',\n",
    "    columns = 'event',\n",
    "    values = 'count',\n",
    ").reset_index().fillna(0)"
   ]
  },
  {
   "cell_type": "code",
   "execution_count": 32,
   "id": "139f696f",
   "metadata": {},
   "outputs": [],
   "source": [
    "ad_data = ad_data.assign(ctr = ad_data.click / ad_data.view )"
   ]
  },
  {
   "cell_type": "code",
   "execution_count": 33,
   "id": "936fc532",
   "metadata": {},
   "outputs": [
    {
     "data": {
      "text/html": [
       "<div>\n",
       "<style scoped>\n",
       "    .dataframe tbody tr th:only-of-type {\n",
       "        vertical-align: middle;\n",
       "    }\n",
       "\n",
       "    .dataframe tbody tr th {\n",
       "        vertical-align: top;\n",
       "    }\n",
       "\n",
       "    .dataframe thead th {\n",
       "        text-align: right;\n",
       "    }\n",
       "</style>\n",
       "<table border=\"1\" class=\"dataframe\">\n",
       "  <thead>\n",
       "    <tr style=\"text-align: right;\">\n",
       "      <th>event</th>\n",
       "      <th>ad_id</th>\n",
       "      <th>click</th>\n",
       "      <th>view</th>\n",
       "      <th>ctr</th>\n",
       "    </tr>\n",
       "  </thead>\n",
       "  <tbody>\n",
       "    <tr>\n",
       "      <th>0</th>\n",
       "      <td>2</td>\n",
       "      <td>1.0</td>\n",
       "      <td>101.0</td>\n",
       "      <td>0.009901</td>\n",
       "    </tr>\n",
       "    <tr>\n",
       "      <th>1</th>\n",
       "      <td>3</td>\n",
       "      <td>3.0</td>\n",
       "      <td>184.0</td>\n",
       "      <td>0.016304</td>\n",
       "    </tr>\n",
       "    <tr>\n",
       "      <th>2</th>\n",
       "      <td>1902</td>\n",
       "      <td>1.0</td>\n",
       "      <td>41.0</td>\n",
       "      <td>0.024390</td>\n",
       "    </tr>\n",
       "    <tr>\n",
       "      <th>3</th>\n",
       "      <td>2064</td>\n",
       "      <td>0.0</td>\n",
       "      <td>35.0</td>\n",
       "      <td>0.000000</td>\n",
       "    </tr>\n",
       "    <tr>\n",
       "      <th>4</th>\n",
       "      <td>2132</td>\n",
       "      <td>1.0</td>\n",
       "      <td>58.0</td>\n",
       "      <td>0.017241</td>\n",
       "    </tr>\n",
       "  </tbody>\n",
       "</table>\n",
       "</div>"
      ],
      "text/plain": [
       "event  ad_id  click   view       ctr\n",
       "0          2    1.0  101.0  0.009901\n",
       "1          3    3.0  184.0  0.016304\n",
       "2       1902    1.0   41.0  0.024390\n",
       "3       2064    0.0   35.0  0.000000\n",
       "4       2132    1.0   58.0  0.017241"
      ]
     },
     "execution_count": 33,
     "metadata": {},
     "output_type": "execute_result"
    }
   ],
   "source": [
    "ad_data.head()"
   ]
  },
  {
   "cell_type": "code",
   "execution_count": 37,
   "id": "a5f9838b",
   "metadata": {},
   "outputs": [],
   "source": [
    "top_10_ctr_data = ad_data[(ad_data.click > 20) & (ad_data.view > 100)].sort_values('ctr', ascending=False).head(10)"
   ]
  },
  {
   "cell_type": "code",
   "execution_count": 38,
   "id": "4c5c433c",
   "metadata": {},
   "outputs": [
    {
     "data": {
      "text/html": [
       "<div>\n",
       "<style scoped>\n",
       "    .dataframe tbody tr th:only-of-type {\n",
       "        vertical-align: middle;\n",
       "    }\n",
       "\n",
       "    .dataframe tbody tr th {\n",
       "        vertical-align: top;\n",
       "    }\n",
       "\n",
       "    .dataframe thead th {\n",
       "        text-align: right;\n",
       "    }\n",
       "</style>\n",
       "<table border=\"1\" class=\"dataframe\">\n",
       "  <thead>\n",
       "    <tr style=\"text-align: right;\">\n",
       "      <th>event</th>\n",
       "      <th>ad_id</th>\n",
       "      <th>click</th>\n",
       "      <th>view</th>\n",
       "      <th>ctr</th>\n",
       "    </tr>\n",
       "  </thead>\n",
       "  <tbody>\n",
       "    <tr>\n",
       "      <th>787</th>\n",
       "      <td>112583</td>\n",
       "      <td>105767.0</td>\n",
       "      <td>351802.0</td>\n",
       "      <td>0.300644</td>\n",
       "    </tr>\n",
       "    <tr>\n",
       "      <th>621</th>\n",
       "      <td>46639</td>\n",
       "      <td>44.0</td>\n",
       "      <td>253.0</td>\n",
       "      <td>0.173913</td>\n",
       "    </tr>\n",
       "    <tr>\n",
       "      <th>838</th>\n",
       "      <td>114959</td>\n",
       "      <td>22.0</td>\n",
       "      <td>259.0</td>\n",
       "      <td>0.084942</td>\n",
       "    </tr>\n",
       "    <tr>\n",
       "      <th>132</th>\n",
       "      <td>20374</td>\n",
       "      <td>21.0</td>\n",
       "      <td>328.0</td>\n",
       "      <td>0.064024</td>\n",
       "    </tr>\n",
       "    <tr>\n",
       "      <th>114</th>\n",
       "      <td>18525</td>\n",
       "      <td>25.0</td>\n",
       "      <td>409.0</td>\n",
       "      <td>0.061125</td>\n",
       "    </tr>\n",
       "    <tr>\n",
       "      <th>18</th>\n",
       "      <td>6338</td>\n",
       "      <td>23.0</td>\n",
       "      <td>409.0</td>\n",
       "      <td>0.056235</td>\n",
       "    </tr>\n",
       "    <tr>\n",
       "      <th>377</th>\n",
       "      <td>38892</td>\n",
       "      <td>516.0</td>\n",
       "      <td>9323.0</td>\n",
       "      <td>0.055347</td>\n",
       "    </tr>\n",
       "    <tr>\n",
       "      <th>11</th>\n",
       "      <td>4369</td>\n",
       "      <td>27.0</td>\n",
       "      <td>584.0</td>\n",
       "      <td>0.046233</td>\n",
       "    </tr>\n",
       "    <tr>\n",
       "      <th>39</th>\n",
       "      <td>10794</td>\n",
       "      <td>22.0</td>\n",
       "      <td>526.0</td>\n",
       "      <td>0.041825</td>\n",
       "    </tr>\n",
       "    <tr>\n",
       "      <th>60</th>\n",
       "      <td>14617</td>\n",
       "      <td>22.0</td>\n",
       "      <td>596.0</td>\n",
       "      <td>0.036913</td>\n",
       "    </tr>\n",
       "  </tbody>\n",
       "</table>\n",
       "</div>"
      ],
      "text/plain": [
       "event   ad_id     click      view       ctr\n",
       "787    112583  105767.0  351802.0  0.300644\n",
       "621     46639      44.0     253.0  0.173913\n",
       "838    114959      22.0     259.0  0.084942\n",
       "132     20374      21.0     328.0  0.064024\n",
       "114     18525      25.0     409.0  0.061125\n",
       "18       6338      23.0     409.0  0.056235\n",
       "377     38892     516.0    9323.0  0.055347\n",
       "11       4369      27.0     584.0  0.046233\n",
       "39      10794      22.0     526.0  0.041825\n",
       "60      14617      22.0     596.0  0.036913"
      ]
     },
     "execution_count": 38,
     "metadata": {},
     "output_type": "execute_result"
    }
   ],
   "source": [
    "top_10_ctr_data"
   ]
  },
  {
   "cell_type": "code",
   "execution_count": 61,
   "id": "0c717f9e",
   "metadata": {},
   "outputs": [],
   "source": [
    "top_10_ctr = top_10_ctr_data.to_csv('C:/Users/79295/Desktop/GITHUB/Api-projects/bufer/top_10_ctr.scv',index=False)"
   ]
  },
  {
   "cell_type": "code",
   "execution_count": 40,
   "id": "65bf9cca",
   "metadata": {},
   "outputs": [],
   "source": [
    "# Подготовили файл для выгрузки:"
   ]
  },
  {
   "cell_type": "code",
   "execution_count": 62,
   "id": "1d779709",
   "metadata": {},
   "outputs": [
    {
     "data": {
      "text/plain": [
       "{'file': '5353479|0|-1|237031|dbd3f50c07|scv|411|top_10_ctr.scv|7fa204d5e8e3b088267aec829dc8ceec|e436d8c70190c8a7d36070e5cd1472c7||||eyJkaXNrIjoxLCJwZWVyX3NlbmRlciI6Ii0yMTgzMzk2MDcifQ=='}"
      ]
     },
     "execution_count": 62,
     "metadata": {},
     "output_type": "execute_result"
    }
   ],
   "source": [
    "path = 'C:/Users/79295/Desktop/GITHUB/Api-projects/bufer/top_10_ctr.scv'\n",
    "file_name = 'top_10_ctr.scv'\n",
    "\n",
    "path_to_file = path\n",
    "upload_url = vk.docs.getMessagesUploadServer(peer_id=2000000001)[\"upload_url\"]\n",
    "file = {'file': (file_name, open(path_to_file, 'rb'))}\n",
    "\n",
    "response = requests.post(upload_url, files=file)\n",
    "\n",
    "json_data = json.loads(response.text)\n",
    "json_data"
   ]
  },
  {
   "cell_type": "code",
   "execution_count": 63,
   "id": "31de4d7b",
   "metadata": {},
   "outputs": [],
   "source": [
    "saved_file = vk.docs.save(file=json_data['file'], title=file_name)"
   ]
  },
  {
   "cell_type": "code",
   "execution_count": 64,
   "id": "cd49bb85",
   "metadata": {},
   "outputs": [
    {
     "data": {
      "text/plain": [
       "{'type': 'doc',\n",
       " 'doc': {'id': 649951198,\n",
       "  'owner_id': 5353479,\n",
       "  'title': 'top_10_ctr.scv',\n",
       "  'size': 411,\n",
       "  'ext': 'scv',\n",
       "  'date': 1674038045,\n",
       "  'type': 4,\n",
       "  'url': 'https://vk.com/doc5353479_649951198?hash=kI1oJ2gjKBbU4pMzMSLdF5XZDTMinyuUpy1GU1zLF8c&dl=FUZDCOBTGM4TMMBX:1674038045:zgfVJFjmNHFLQDbSkcavzVhz6rF1XT2nzmn5Z1C9ozD&api=1&no_preview=1'}}"
      ]
     },
     "execution_count": 64,
     "metadata": {},
     "output_type": "execute_result"
    }
   ],
   "source": [
    "saved_file"
   ]
  },
  {
   "cell_type": "code",
   "execution_count": 65,
   "id": "3de70a80",
   "metadata": {},
   "outputs": [],
   "source": [
    "attachment = 'doc{}_{}'.format(saved_file['doc']['owner_id'], saved_file['doc']['id'])"
   ]
  },
  {
   "cell_type": "code",
   "execution_count": 66,
   "id": "f6a0aed4",
   "metadata": {},
   "outputs": [
    {
     "data": {
      "text/plain": [
       "'doc5353479_649951198'"
      ]
     },
     "execution_count": 66,
     "metadata": {},
     "output_type": "execute_result"
    }
   ],
   "source": [
    "attachment"
   ]
  },
  {
   "cell_type": "code",
   "execution_count": 67,
   "id": "fbd721f5",
   "metadata": {},
   "outputs": [
    {
     "data": {
      "text/plain": [
       "0"
      ]
     },
     "execution_count": 67,
     "metadata": {},
     "output_type": "execute_result"
    }
   ],
   "source": [
    "vk.messages.send(\n",
    "    chat_id = 1,\n",
    "    random_id = 2,\n",
    "    message = 'Top-10 ctr ads',\n",
    "    attachment = attachment)"
   ]
  },
  {
   "cell_type": "code",
   "execution_count": 68,
   "id": "5fc8d8d6",
   "metadata": {
    "scrolled": true
   },
   "outputs": [
    {
     "data": {
      "text/plain": [
       "{'file': '5353479|0|-1|235131|40b6813e57|jpg|93951|photo.jpg|dae32b29d29e28c15021b1350490da2a|82e793e4b9148535c5a6a76aaa072d77|m_40b6813e57||m:130x87,s:100x67,x:604x402,o:800x532|eyJkaXNrIjoxOCwicGVlcl9zZW5kZXIiOiItMjE4MzM5NjA3In0='}"
      ]
     },
     "execution_count": 68,
     "metadata": {},
     "output_type": "execute_result"
    }
   ],
   "source": [
    "path = 'C:/Users/79295/Desktop/GITHUB/Api-projects/bufer/photo.jpg'\n",
    "file_name = 'photo.jpg'\n",
    "\n",
    "path_to_file = path\n",
    "upload_url = vk.docs.getMessagesUploadServer(peer_id=2000000001)[\"upload_url\"]\n",
    "file = {'file': (file_name, open(path_to_file, 'rb'))}\n",
    "\n",
    "response = requests.post(upload_url, files=file)\n",
    "\n",
    "json_data = json.loads(response.text)\n",
    "json_data"
   ]
  },
  {
   "cell_type": "code",
   "execution_count": 70,
   "id": "df4cb4f3",
   "metadata": {},
   "outputs": [],
   "source": [
    "saved_file = vk.docs.save(file=json_data['file'], title=file_name)"
   ]
  },
  {
   "cell_type": "code",
   "execution_count": 72,
   "id": "639fd7c9",
   "metadata": {},
   "outputs": [
    {
     "data": {
      "text/plain": [
       "{'type': 'doc',\n",
       " 'doc': {'id': 649951868,\n",
       "  'owner_id': 5353479,\n",
       "  'title': 'photo.jpg',\n",
       "  'size': 93951,\n",
       "  'ext': 'jpg',\n",
       "  'date': 1674038776,\n",
       "  'type': 4,\n",
       "  'url': 'https://vk.com/doc5353479_649951868?hash=ZerNVRDpcDOf8PnDDCev0MZBqjIqfABzQs6YTkv43O8&dl=FUZDCOBTGM4TMMBX:1674038776:fX032SowiG30CxcwP4QI8rt0QxUDlaBhPvjwcvsngdT&api=1&no_preview=1',\n",
       "  'preview': {'photo': {'sizes': [{'src': 'https://sun9-50.userapi.com/c235131/u5353479/d18/-3/m_40b6813e57.jpg',\n",
       "      'width': 130,\n",
       "      'height': 87,\n",
       "      'type': 'm'},\n",
       "     {'src': 'https://sun9-1.userapi.com/c235131/u5353479/d18/-3/s_40b6813e57.jpg',\n",
       "      'width': 100,\n",
       "      'height': 67,\n",
       "      'type': 's'},\n",
       "     {'src': 'https://sun9-43.userapi.com/c235131/u5353479/d18/-3/x_40b6813e57.jpg',\n",
       "      'width': 604,\n",
       "      'height': 402,\n",
       "      'type': 'x'},\n",
       "     {'src': 'https://sun9-33.userapi.com/c235131/u5353479/d18/-3/y_40b6813e57.jpg',\n",
       "      'width': 807,\n",
       "      'height': 537,\n",
       "      'type': 'y'},\n",
       "     {'src': 'https://sun9-7.userapi.com/c235131/u5353479/d18/-3/o_40b6813e57.jpg',\n",
       "      'width': 800,\n",
       "      'height': 532,\n",
       "      'type': 'o'}]}}}}"
      ]
     },
     "execution_count": 72,
     "metadata": {},
     "output_type": "execute_result"
    }
   ],
   "source": [
    "saved_file"
   ]
  },
  {
   "cell_type": "code",
   "execution_count": 75,
   "id": "56a74f75",
   "metadata": {},
   "outputs": [],
   "source": [
    "attachment_photo = 'doc{}_{}'.format(saved_file['doc']['owner_id'], saved_file['doc']['id'])"
   ]
  },
  {
   "cell_type": "code",
   "execution_count": 76,
   "id": "5c100006",
   "metadata": {},
   "outputs": [
    {
     "data": {
      "text/plain": [
       "'doc5353479_649951868'"
      ]
     },
     "execution_count": 76,
     "metadata": {},
     "output_type": "execute_result"
    }
   ],
   "source": [
    "attachment_photo"
   ]
  },
  {
   "cell_type": "code",
   "execution_count": 77,
   "id": "78a01d7f",
   "metadata": {},
   "outputs": [
    {
     "data": {
      "text/plain": [
       "0"
      ]
     },
     "execution_count": 77,
     "metadata": {},
     "output_type": "execute_result"
    }
   ],
   "source": [
    "vk.messages.send(\n",
    "    chat_id = 1,\n",
    "    random_id = 3,\n",
    "    message = 'Happy soap day',\n",
    "    attachment = attachment_photo)"
   ]
  },
  {
   "cell_type": "code",
   "execution_count": null,
   "id": "57133f8c",
   "metadata": {},
   "outputs": [],
   "source": []
  }
 ],
 "metadata": {
  "kernelspec": {
   "display_name": "Python 3 (ipykernel)",
   "language": "python",
   "name": "python3"
  },
  "language_info": {
   "codemirror_mode": {
    "name": "ipython",
    "version": 3
   },
   "file_extension": ".py",
   "mimetype": "text/x-python",
   "name": "python",
   "nbconvert_exporter": "python",
   "pygments_lexer": "ipython3",
   "version": "3.9.13"
  }
 },
 "nbformat": 4,
 "nbformat_minor": 5
}
